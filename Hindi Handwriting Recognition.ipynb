{
 "cells": [
  {
   "cell_type": "code",
   "execution_count": 2,
   "metadata": {},
   "outputs": [
    {
     "name": "stderr",
     "output_type": "stream",
     "text": [
      "Using TensorFlow backend.\n"
     ]
    }
   ],
   "source": [
    "import numpy as np\n",
    "from keras import layers\n",
    "from keras.layers import Input, Dense, Activation, ZeroPadding2D, BatchNormalization, Flatten, Conv2D\n",
    "from keras.layers import AveragePooling2D, MaxPooling2D, Dropout, GlobalMaxPooling2D, GlobalAveragePooling2D\n",
    "from keras.utils import np_utils, print_summary\n",
    "import pandas as pd\n",
    "from keras.models import Sequential\n",
    "from keras.callbacks import ModelCheckpoint\n",
    "import keras.backend as K"
   ]
  },
  {
   "cell_type": "code",
   "execution_count": 5,
   "metadata": {},
   "outputs": [],
   "source": [
    "data = pd.read_csv(\"D:/data.csv\")\n",
    "dataset = np.array(data)\n",
    "np.random.shuffle(dataset)\n",
    "X = dataset\n",
    "Y = dataset\n",
    "X = X[:, 0:1024]\n",
    "Y = Y[:, 1024]\n",
    "\n",
    "X_train = X[0:70000, :]\n",
    "X_train = X_train / 255.\n",
    "X_test = X[70000:72001, :]\n",
    "X_test = X_test / 255.\n",
    "\n",
    "Y = Y.reshape(Y.shape[0], 1)   #Reshape\n",
    "Y_train = Y[0:70000, :]\n",
    "Y_train = Y_train.T\n",
    "Y_test = Y[70000:72001, :]\n",
    "Y_test = Y_test.T"
   ]
  },
  {
   "cell_type": "code",
   "execution_count": 6,
   "metadata": {},
   "outputs": [
    {
     "name": "stdout",
     "output_type": "stream",
     "text": [
      "Number of training examples : 70000\n",
      "Number of test examples : 2000\n",
      "X_train shape : (70000, 1024)\n",
      "Y_train shape : (1, 70000)\n",
      "X_test shape : (2000, 1024)\n",
      "Y_test shape : (1, 2000)\n"
     ]
    }
   ],
   "source": [
    "print(\"Number of training examples : \" + str(X_train.shape[0]))\n",
    "print(\"Number of test examples : \" + str(X_test.shape[0]))\n",
    "print(\"X_train shape : \" + str(X_train.shape))\n",
    "print(\"Y_train shape : \" + str(Y_train.shape))\n",
    "print(\"X_test shape : \" + str(X_test.shape))\n",
    "print(\"Y_test shape : \" + str(Y_test.shape))"
   ]
  },
  {
   "cell_type": "code",
   "execution_count": 7,
   "metadata": {},
   "outputs": [],
   "source": [
    "image_x = 32\n",
    "image_y = 32\n",
    "\n",
    "train_y = np_utils.to_categorical(Y_train)\n",
    "test_y = np_utils.to_categorical(Y_test)\n",
    "train_y = train_y.reshape(train_y.shape[1], train_y.shape[2])\n",
    "test_y = test_y.reshape(test_y.shape[1], test_y.shape[2])\n",
    "X_train = X_train.reshape(X_train.shape[0], image_x, image_y, 1)\n",
    "X_test = X_test.reshape(X_test.shape[0], image_x, image_y, 1)"
   ]
  },
  {
   "cell_type": "code",
   "execution_count": 9,
   "metadata": {},
   "outputs": [
    {
     "name": "stdout",
     "output_type": "stream",
     "text": [
      "X_train shape : (70000, 32, 32, 1)\n",
      "Y_train shape : (70000, 37)\n"
     ]
    }
   ],
   "source": [
    "print(\"X_train shape : \" + str(X_train.shape))\n",
    "print(\"Y_train shape : \" + str(train_y.shape))"
   ]
  },
  {
   "cell_type": "code",
   "execution_count": 12,
   "metadata": {},
   "outputs": [],
   "source": [
    "#Building a model\n",
    "def keras_model(image_x, image_y):\n",
    "    num_of_classes = 37\n",
    "    model = Sequential()\n",
    "    model.add(Conv2D(filters = 32, kernel_size = (5, 5), input_shape = (image_x, image_y, 1), activation = \"relu\"))\n",
    "    model.add(MaxPooling2D(pool_size = (2, 2), strides = (2, 2), padding = \"same\"))\n",
    "    model.add(Conv2D(64, (5, 5), activation = \"relu\"))\n",
    "    model.add(MaxPooling2D(pool_size = (5, 5), strides = (5, 5), padding = \"same\"))\n",
    "    model.add(Flatten())\n",
    "    model.add(Dense(num_of_classes, activation = \"softmax\"))\n",
    "    model.compile(loss = \"categorical_crossentropy\", optimizer = \"adam\", metrics = [\"accuracy\"])\n",
    "    filepath = \"devanagari.h5\"\n",
    "    checkpoint1 = ModelCheckpoint(filepath, monitor = \"val_acc\", verbose = 1, save_best_only = True, mode = \"max\")\n",
    "    callbacks_list = [checkpoint1]\n",
    "    \n",
    "    return model, callbacks_list"
   ]
  },
  {
   "cell_type": "code",
   "execution_count": 13,
   "metadata": {},
   "outputs": [
    {
     "name": "stdout",
     "output_type": "stream",
     "text": [
      "WARNING:tensorflow:From C:\\Users\\DELL\\Anaconda3\\lib\\site-packages\\tensorflow\\python\\ops\\math_ops.py:3066: to_int32 (from tensorflow.python.ops.math_ops) is deprecated and will be removed in a future version.\n",
      "Instructions for updating:\n",
      "Use tf.cast instead.\n",
      "Train on 70000 samples, validate on 2000 samples\n",
      "Epoch 1/8\n",
      "70000/70000 [==============================] - 178s 3ms/step - loss: 0.8011 - acc: 0.7717 - val_loss: 0.3351 - val_acc: 0.9035\n",
      "\n",
      "Epoch 00001: val_acc improved from -inf to 0.90350, saving model to devanagari.h5\n",
      "Epoch 2/8\n",
      "70000/70000 [==============================] - 167s 2ms/step - loss: 0.2406 - acc: 0.9264 - val_loss: 0.2024 - val_acc: 0.9410\n",
      "\n",
      "Epoch 00002: val_acc improved from 0.90350 to 0.94100, saving model to devanagari.h5\n",
      "Epoch 3/8\n",
      "70000/70000 [==============================] - 165s 2ms/step - loss: 0.1558 - acc: 0.9521 - val_loss: 0.2152 - val_acc: 0.9335\n",
      "\n",
      "Epoch 00003: val_acc did not improve from 0.94100\n",
      "Epoch 4/8\n",
      "70000/70000 [==============================] - 164s 2ms/step - loss: 0.1158 - acc: 0.9637 - val_loss: 0.1206 - val_acc: 0.9665\n",
      "\n",
      "Epoch 00004: val_acc improved from 0.94100 to 0.96650, saving model to devanagari.h5\n",
      "Epoch 5/8\n",
      "70000/70000 [==============================] - 161s 2ms/step - loss: 0.0923 - acc: 0.9720 - val_loss: 0.1306 - val_acc: 0.9630\n",
      "\n",
      "Epoch 00005: val_acc did not improve from 0.96650\n",
      "Epoch 6/8\n",
      "70000/70000 [==============================] - 160s 2ms/step - loss: 0.0769 - acc: 0.9755 - val_loss: 0.1105 - val_acc: 0.9665\n",
      "\n",
      "Epoch 00006: val_acc did not improve from 0.96650\n",
      "Epoch 7/8\n",
      "70000/70000 [==============================] - 158s 2ms/step - loss: 0.0635 - acc: 0.9804 - val_loss: 0.1118 - val_acc: 0.9730\n",
      "\n",
      "Epoch 00007: val_acc improved from 0.96650 to 0.97300, saving model to devanagari.h5\n",
      "Epoch 8/8\n",
      "70000/70000 [==============================] - 156s 2ms/step - loss: 0.0555 - acc: 0.9823 - val_loss: 0.0980 - val_acc: 0.9735\n",
      "\n",
      "Epoch 00008: val_acc improved from 0.97300 to 0.97350, saving model to devanagari.h5\n",
      "CNN Error : 2.65%\n",
      "_________________________________________________________________\n",
      "Layer (type)                 Output Shape              Param #   \n",
      "=================================================================\n",
      "conv2d_3 (Conv2D)            (None, 28, 28, 32)        832       \n",
      "_________________________________________________________________\n",
      "max_pooling2d_3 (MaxPooling2 (None, 14, 14, 32)        0         \n",
      "_________________________________________________________________\n",
      "conv2d_4 (Conv2D)            (None, 10, 10, 64)        51264     \n",
      "_________________________________________________________________\n",
      "max_pooling2d_4 (MaxPooling2 (None, 2, 2, 64)          0         \n",
      "_________________________________________________________________\n",
      "flatten_2 (Flatten)          (None, 256)               0         \n",
      "_________________________________________________________________\n",
      "dense_2 (Dense)              (None, 37)                9509      \n",
      "=================================================================\n",
      "Total params: 61,605\n",
      "Trainable params: 61,605\n",
      "Non-trainable params: 0\n",
      "_________________________________________________________________\n"
     ]
    }
   ],
   "source": [
    "model, callbacks_list = keras_model(image_x, image_y)\n",
    "model.fit(X_train, train_y, validation_data = (X_test, test_y), epochs = 8, batch_size = 64, callbacks = callbacks_list)\n",
    "scores = model.evaluate(X_test, test_y, verbose = 0)\n",
    "print(\"CNN Error : %.2f%%\" % (100- scores[1] * 100))\n",
    "print_summary(model)\n",
    "model.save(\"devanagari.h5\")"
   ]
  },
  {
   "cell_type": "code",
   "execution_count": null,
   "metadata": {},
   "outputs": [],
   "source": []
  }
 ],
 "metadata": {
  "kernelspec": {
   "display_name": "Python 3",
   "language": "python",
   "name": "python3"
  },
  "language_info": {
   "codemirror_mode": {
    "name": "ipython",
    "version": 3
   },
   "file_extension": ".py",
   "mimetype": "text/x-python",
   "name": "python",
   "nbconvert_exporter": "python",
   "pygments_lexer": "ipython3",
   "version": "3.7.1"
  }
 },
 "nbformat": 4,
 "nbformat_minor": 2
}
